{
 "cells": [
  {
   "cell_type": "code",
   "execution_count": 1,
   "id": "c2173e74",
   "metadata": {
    "execution": {
     "iopub.execute_input": "2024-09-26T15:36:18.760990Z",
     "iopub.status.busy": "2024-09-26T15:36:18.760601Z",
     "iopub.status.idle": "2024-09-26T15:36:18.771468Z",
     "shell.execute_reply": "2024-09-26T15:36:18.770461Z"
    },
    "papermill": {
     "duration": 0.018717,
     "end_time": "2024-09-26T15:36:18.773635",
     "exception": false,
     "start_time": "2024-09-26T15:36:18.754918",
     "status": "completed"
    },
    "tags": []
   },
   "outputs": [],
   "source": [
    "#1. Screening test evaluation\n",
    "TP = 55   # True Positive\n",
    "FP = 120  # False Positive\n",
    "TN = 2350 # True Negative\n",
    "FN = 20   # False Negative\n",
    "#Calculate Sensetivity, Specificity, Positive Predictivity, Negative Predictivity"
   ]
  },
  {
   "cell_type": "code",
   "execution_count": 2,
   "id": "7941ef8a",
   "metadata": {
    "execution": {
     "iopub.execute_input": "2024-09-26T15:36:18.781929Z",
     "iopub.status.busy": "2024-09-26T15:36:18.781566Z",
     "iopub.status.idle": "2024-09-26T15:36:18.787921Z",
     "shell.execute_reply": "2024-09-26T15:36:18.786876Z"
    },
    "papermill": {
     "duration": 0.012973,
     "end_time": "2024-09-26T15:36:18.790161",
     "exception": false,
     "start_time": "2024-09-26T15:36:18.777188",
     "status": "completed"
    },
    "tags": []
   },
   "outputs": [
    {
     "name": "stdout",
     "output_type": "stream",
     "text": [
      "Sensitivity: 0.7333 or 73.33%\n"
     ]
    }
   ],
   "source": [
    "# a. Sensitivity = Pr(X = + | Y = +) = TP / (TP + FN)\n",
    "TP = 55   # True Positive\n",
    "FP = 120  # False Positive\n",
    "TN = 2350 # True Negative\n",
    "FN = 20   # False Negative\n",
    "# Calculate sensitivity\n",
    "sensitivity = TP / (TP + FN)\n",
    "sensitivity = 55 / (55 + 20)\n",
    "print(f\"Sensitivity: {sensitivity:.4f} or {sensitivity * 100:.2f}%\")"
   ]
  },
  {
   "cell_type": "code",
   "execution_count": 3,
   "id": "33afaa96",
   "metadata": {
    "execution": {
     "iopub.execute_input": "2024-09-26T15:36:18.798620Z",
     "iopub.status.busy": "2024-09-26T15:36:18.798222Z",
     "iopub.status.idle": "2024-09-26T15:36:18.804228Z",
     "shell.execute_reply": "2024-09-26T15:36:18.803270Z"
    },
    "papermill": {
     "duration": 0.012772,
     "end_time": "2024-09-26T15:36:18.806614",
     "exception": false,
     "start_time": "2024-09-26T15:36:18.793842",
     "status": "completed"
    },
    "tags": []
   },
   "outputs": [
    {
     "name": "stdout",
     "output_type": "stream",
     "text": [
      "Specificity: 0.9514 or 95.14%\n"
     ]
    }
   ],
   "source": [
    "# b. Specificity = Pr(X = - | Y = -) = TN / (TN + FP)\n",
    "TP = 55   # True Positive\n",
    "FP = 120  # False Positive\n",
    "TN = 2350 # True Negative\n",
    "FN = 20   # False Negative\n",
    "# Calculate specificity\n",
    "specificity = TN / (TN + FP)\n",
    "specificity = 2350 / (2350 + 120)\n",
    "print(f\"Specificity: {specificity:.4f} or {specificity * 100:.2f}%\")"
   ]
  },
  {
   "cell_type": "code",
   "execution_count": 4,
   "id": "93efa19a",
   "metadata": {
    "execution": {
     "iopub.execute_input": "2024-09-26T15:36:18.814973Z",
     "iopub.status.busy": "2024-09-26T15:36:18.814604Z",
     "iopub.status.idle": "2024-09-26T15:36:18.820384Z",
     "shell.execute_reply": "2024-09-26T15:36:18.819429Z"
    },
    "papermill": {
     "duration": 0.012559,
     "end_time": "2024-09-26T15:36:18.822694",
     "exception": false,
     "start_time": "2024-09-26T15:36:18.810135",
     "status": "completed"
    },
    "tags": []
   },
   "outputs": [
    {
     "name": "stdout",
     "output_type": "stream",
     "text": [
      "Positive Predictivity: 0.3143 or 31.43%\n"
     ]
    }
   ],
   "source": [
    "# c. Positive Predictivity = Pr(Y = + | X = +) = TP / (TP + FP)\n",
    "TP = 55   # True Positive\n",
    "FP = 120  # False Positive\n",
    "TN = 2350 # True Negative\n",
    "FN = 20   # False Negative\n",
    "# Calculate positive predictivity (PPV)\n",
    "positive_predictivity = TP / (TP + FP)\n",
    "positive_predictivity = 55 / (55 + 120)\n",
    "print(f\"Positive Predictivity: {positive_predictivity:.4f} or {positive_predictivity * 100:.2f}%\")"
   ]
  },
  {
   "cell_type": "code",
   "execution_count": 5,
   "id": "80dca62a",
   "metadata": {
    "execution": {
     "iopub.execute_input": "2024-09-26T15:36:18.831723Z",
     "iopub.status.busy": "2024-09-26T15:36:18.830849Z",
     "iopub.status.idle": "2024-09-26T15:36:18.836928Z",
     "shell.execute_reply": "2024-09-26T15:36:18.836013Z"
    },
    "papermill": {
     "duration": 0.012736,
     "end_time": "2024-09-26T15:36:18.839023",
     "exception": false,
     "start_time": "2024-09-26T15:36:18.826287",
     "status": "completed"
    },
    "tags": []
   },
   "outputs": [
    {
     "name": "stdout",
     "output_type": "stream",
     "text": [
      "Negative Predictivity: 0.9916 or 99.16%\n"
     ]
    }
   ],
   "source": [
    "# d. Negative Predictivity = Pr(Y = - | X = -) = TN / (TN + FN)\n",
    "TP = 55   # True Positive\n",
    "FP = 120  # False Positive\n",
    "TN = 2350 # True Negative\n",
    "FN = 20   # False Negative\n",
    "# Calculate negative predictivity (NPV)\n",
    "negative_predictivity = TN / (TN + FN)\n",
    "negative_predictivity = 2350 / (2350 + 20)\n",
    "print(f\"Negative Predictivity: {negative_predictivity:.4f} or {negative_predictivity * 100:.2f}%\")"
   ]
  },
  {
   "cell_type": "code",
   "execution_count": 6,
   "id": "7c4fc7fd",
   "metadata": {
    "execution": {
     "iopub.execute_input": "2024-09-26T15:36:18.847582Z",
     "iopub.status.busy": "2024-09-26T15:36:18.847224Z",
     "iopub.status.idle": "2024-09-26T15:36:19.902459Z",
     "shell.execute_reply": "2024-09-26T15:36:19.901574Z"
    },
    "papermill": {
     "duration": 1.062334,
     "end_time": "2024-09-26T15:36:19.905012",
     "exception": false,
     "start_time": "2024-09-26T15:36:18.842678",
     "status": "completed"
    },
    "tags": []
   },
   "outputs": [],
   "source": [
    "import scipy.stats as stats"
   ]
  },
  {
   "cell_type": "code",
   "execution_count": 7,
   "id": "5a3e5f1b",
   "metadata": {
    "execution": {
     "iopub.execute_input": "2024-09-26T15:36:19.916459Z",
     "iopub.status.busy": "2024-09-26T15:36:19.915098Z",
     "iopub.status.idle": "2024-09-26T15:36:19.920417Z",
     "shell.execute_reply": "2024-09-26T15:36:19.919393Z"
    },
    "papermill": {
     "duration": 0.01222,
     "end_time": "2024-09-26T15:36:19.922566",
     "exception": false,
     "start_time": "2024-09-26T15:36:19.910346",
     "status": "completed"
    },
    "tags": []
   },
   "outputs": [],
   "source": [
    "#2. Given parameters\n",
    "mu = 160  # mean\n",
    "sigma = 40  # standard deviation"
   ]
  },
  {
   "cell_type": "code",
   "execution_count": 8,
   "id": "afe2e377",
   "metadata": {
    "execution": {
     "iopub.execute_input": "2024-09-26T15:36:19.931351Z",
     "iopub.status.busy": "2024-09-26T15:36:19.930920Z",
     "iopub.status.idle": "2024-09-26T15:36:19.938293Z",
     "shell.execute_reply": "2024-09-26T15:36:19.937124Z"
    },
    "papermill": {
     "duration": 0.014346,
     "end_time": "2024-09-26T15:36:19.940612",
     "exception": false,
     "start_time": "2024-09-26T15:36:19.926266",
     "status": "completed"
    },
    "tags": []
   },
   "outputs": [],
   "source": [
    "# Probability of going 180 or more days\n",
    "x1 = 180\n",
    "z1 = (x1 - mu) / sigma\n",
    "p_180_or_more = 1 - stats.norm.cdf(z1)"
   ]
  },
  {
   "cell_type": "code",
   "execution_count": 9,
   "id": "dd55fecc",
   "metadata": {
    "execution": {
     "iopub.execute_input": "2024-09-26T15:36:19.950398Z",
     "iopub.status.busy": "2024-09-26T15:36:19.949200Z",
     "iopub.status.idle": "2024-09-26T15:36:19.956331Z",
     "shell.execute_reply": "2024-09-26T15:36:19.955355Z"
    },
    "papermill": {
     "duration": 0.013966,
     "end_time": "2024-09-26T15:36:19.958413",
     "exception": false,
     "start_time": "2024-09-26T15:36:19.944447",
     "status": "completed"
    },
    "tags": []
   },
   "outputs": [],
   "source": [
    "# Probability of going 240 or more days\n",
    "x2 = 240\n",
    "z2 = (x2 - mu) / sigma\n",
    "p_240_or_more = 1 - stats.norm.cdf(z2)"
   ]
  },
  {
   "cell_type": "code",
   "execution_count": 10,
   "id": "f7bb5260",
   "metadata": {
    "execution": {
     "iopub.execute_input": "2024-09-26T15:36:19.967071Z",
     "iopub.status.busy": "2024-09-26T15:36:19.966415Z",
     "iopub.status.idle": "2024-09-26T15:36:19.971106Z",
     "shell.execute_reply": "2024-09-26T15:36:19.970181Z"
    },
    "papermill": {
     "duration": 0.011133,
     "end_time": "2024-09-26T15:36:19.973156",
     "exception": false,
     "start_time": "2024-09-26T15:36:19.962023",
     "status": "completed"
    },
    "tags": []
   },
   "outputs": [],
   "source": [
    "# Probability of going 240 or less days\n",
    "p_240_or_less = stats.norm.cdf(z2)"
   ]
  },
  {
   "cell_type": "code",
   "execution_count": 11,
   "id": "abb2a22c",
   "metadata": {
    "execution": {
     "iopub.execute_input": "2024-09-26T15:36:19.981689Z",
     "iopub.status.busy": "2024-09-26T15:36:19.981287Z",
     "iopub.status.idle": "2024-09-26T15:36:19.986799Z",
     "shell.execute_reply": "2024-09-26T15:36:19.985825Z"
    },
    "papermill": {
     "duration": 0.012161,
     "end_time": "2024-09-26T15:36:19.988889",
     "exception": false,
     "start_time": "2024-09-26T15:36:19.976728",
     "status": "completed"
    },
    "tags": []
   },
   "outputs": [
    {
     "name": "stdout",
     "output_type": "stream",
     "text": [
      "Probability of going 180 or more days: 0.3085\n",
      "Probability of going 240 or more days: 0.0228\n",
      "Probability of going 240 or less days: 0.9772\n"
     ]
    }
   ],
   "source": [
    "# Results\n",
    "print(f\"Probability of going 180 or more days: {p_180_or_more:.4f}\")\n",
    "print(f\"Probability of going 240 or more days: {p_240_or_more:.4f}\")\n",
    "print(f\"Probability of going 240 or less days: {p_240_or_less:.4f}\")"
   ]
  }
 ],
 "metadata": {
  "kaggle": {
   "accelerator": "none",
   "dataSources": [],
   "dockerImageVersionId": 30775,
   "isGpuEnabled": false,
   "isInternetEnabled": false,
   "language": "python",
   "sourceType": "notebook"
  },
  "kernelspec": {
   "display_name": "Python 3",
   "language": "python",
   "name": "python3"
  },
  "language_info": {
   "codemirror_mode": {
    "name": "ipython",
    "version": 3
   },
   "file_extension": ".py",
   "mimetype": "text/x-python",
   "name": "python",
   "nbconvert_exporter": "python",
   "pygments_lexer": "ipython3",
   "version": "3.10.14"
  },
  "papermill": {
   "default_parameters": {},
   "duration": 4.250831,
   "end_time": "2024-09-26T15:36:20.412350",
   "environment_variables": {},
   "exception": null,
   "input_path": "__notebook__.ipynb",
   "output_path": "__notebook__.ipynb",
   "parameters": {},
   "start_time": "2024-09-26T15:36:16.161519",
   "version": "2.6.0"
  }
 },
 "nbformat": 4,
 "nbformat_minor": 5
}
