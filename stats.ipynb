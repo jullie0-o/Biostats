{
 "cells": [
  {
   "cell_type": "code",
   "execution_count": 1,
   "id": "c1038346",
   "metadata": {
    "execution": {
     "iopub.execute_input": "2024-09-26T15:29:38.957784Z",
     "iopub.status.busy": "2024-09-26T15:29:38.957368Z",
     "iopub.status.idle": "2024-09-26T15:29:38.968748Z",
     "shell.execute_reply": "2024-09-26T15:29:38.967486Z"
    },
    "papermill": {
     "duration": 0.019783,
     "end_time": "2024-09-26T15:29:38.971407",
     "exception": false,
     "start_time": "2024-09-26T15:29:38.951624",
     "status": "completed"
    },
    "tags": []
   },
   "outputs": [],
   "source": [
    "#1. Screening test evaluation\n",
    "TP = 55   # True Positive\n",
    "FP = 120  # False Positive\n",
    "TN = 2350 # True Negative\n",
    "FN = 20   # False Negative\n",
    "#Calculate Sensetivity, Specificity, Positive Predictivity, Negative Predictivity"
   ]
  },
  {
   "cell_type": "code",
   "execution_count": 2,
   "id": "29cbe184",
   "metadata": {
    "execution": {
     "iopub.execute_input": "2024-09-26T15:29:38.980424Z",
     "iopub.status.busy": "2024-09-26T15:29:38.979922Z",
     "iopub.status.idle": "2024-09-26T15:29:38.987338Z",
     "shell.execute_reply": "2024-09-26T15:29:38.985891Z"
    },
    "papermill": {
     "duration": 0.01462,
     "end_time": "2024-09-26T15:29:38.989748",
     "exception": false,
     "start_time": "2024-09-26T15:29:38.975128",
     "status": "completed"
    },
    "tags": []
   },
   "outputs": [
    {
     "name": "stdout",
     "output_type": "stream",
     "text": [
      "Sensitivity: 0.7333 or 73.33%\n"
     ]
    }
   ],
   "source": [
    "# a. Sensitivity = Pr(X = + | Y = +) = TP / (TP + FN)\n",
    "TP = 55   # True Positive\n",
    "FP = 120  # False Positive\n",
    "TN = 2350 # True Negative\n",
    "FN = 20   # False Negative\n",
    "# Calculate sensitivity\n",
    "sensitivity = TP / (TP + FN)\n",
    "sensitivity = 55 / (55 + 20)\n",
    "print(f\"Sensitivity: {sensitivity:.4f} or {sensitivity * 100:.2f}%\")"
   ]
  },
  {
   "cell_type": "code",
   "execution_count": 3,
   "id": "cc1ef94c",
   "metadata": {
    "execution": {
     "iopub.execute_input": "2024-09-26T15:29:39.000453Z",
     "iopub.status.busy": "2024-09-26T15:29:38.999763Z",
     "iopub.status.idle": "2024-09-26T15:29:39.006448Z",
     "shell.execute_reply": "2024-09-26T15:29:39.005343Z"
    },
    "papermill": {
     "duration": 0.014581,
     "end_time": "2024-09-26T15:29:39.008730",
     "exception": false,
     "start_time": "2024-09-26T15:29:38.994149",
     "status": "completed"
    },
    "tags": []
   },
   "outputs": [
    {
     "name": "stdout",
     "output_type": "stream",
     "text": [
      "Specificity: 0.9514 or 95.14%\n"
     ]
    }
   ],
   "source": [
    "# b. Specificity = Pr(X = - | Y = -) = TN / (TN + FP)\n",
    "TP = 55   # True Positive\n",
    "FP = 120  # False Positive\n",
    "TN = 2350 # True Negative\n",
    "FN = 20   # False Negative\n",
    "# Calculate specificity\n",
    "specificity = TN / (TN + FP)\n",
    "specificity = 2350 / (2350 + 120)\n",
    "print(f\"Specificity: {specificity:.4f} or {specificity * 100:.2f}%\")"
   ]
  },
  {
   "cell_type": "code",
   "execution_count": 4,
   "id": "29c13d40",
   "metadata": {
    "execution": {
     "iopub.execute_input": "2024-09-26T15:29:39.017817Z",
     "iopub.status.busy": "2024-09-26T15:29:39.017410Z",
     "iopub.status.idle": "2024-09-26T15:29:39.024017Z",
     "shell.execute_reply": "2024-09-26T15:29:39.022817Z"
    },
    "papermill": {
     "duration": 0.013967,
     "end_time": "2024-09-26T15:29:39.026476",
     "exception": false,
     "start_time": "2024-09-26T15:29:39.012509",
     "status": "completed"
    },
    "tags": []
   },
   "outputs": [
    {
     "name": "stdout",
     "output_type": "stream",
     "text": [
      "Positive Predictivity: 0.3143 or 31.43%\n"
     ]
    }
   ],
   "source": [
    "# c. Positive Predictivity = Pr(Y = + | X = +) = TP / (TP + FP)\n",
    "TP = 55   # True Positive\n",
    "FP = 120  # False Positive\n",
    "TN = 2350 # True Negative\n",
    "FN = 20   # False Negative\n",
    "# Calculate positive predictivity (PPV)\n",
    "positive_predictivity = TP / (TP + FP)\n",
    "positive_predictivity = 55 / (55 + 120)\n",
    "print(f\"Positive Predictivity: {positive_predictivity:.4f} or {positive_predictivity * 100:.2f}%\")"
   ]
  },
  {
   "cell_type": "code",
   "execution_count": 5,
   "id": "d42b668d",
   "metadata": {
    "execution": {
     "iopub.execute_input": "2024-09-26T15:29:39.036210Z",
     "iopub.status.busy": "2024-09-26T15:29:39.035186Z",
     "iopub.status.idle": "2024-09-26T15:29:39.042567Z",
     "shell.execute_reply": "2024-09-26T15:29:39.041203Z"
    },
    "papermill": {
     "duration": 0.014853,
     "end_time": "2024-09-26T15:29:39.045070",
     "exception": false,
     "start_time": "2024-09-26T15:29:39.030217",
     "status": "completed"
    },
    "tags": []
   },
   "outputs": [
    {
     "name": "stdout",
     "output_type": "stream",
     "text": [
      "Negative Predictivity: 0.9916 or 99.16%\n"
     ]
    }
   ],
   "source": [
    "# d. Negative Predictivity = Pr(Y = - | X = -) = TN / (TN + FN)\n",
    "TP = 55   # True Positive\n",
    "FP = 120  # False Positive\n",
    "TN = 2350 # True Negative\n",
    "FN = 20   # False Negative\n",
    "# Calculate negative predictivity (NPV)\n",
    "negative_predictivity = TN / (TN + FN)\n",
    "negative_predictivity = 2350 / (2350 + 20)\n",
    "print(f\"Negative Predictivity: {negative_predictivity:.4f} or {negative_predictivity * 100:.2f}%\")"
   ]
  },
  {
   "cell_type": "code",
   "execution_count": 6,
   "id": "4f03f0c8",
   "metadata": {
    "execution": {
     "iopub.execute_input": "2024-09-26T15:29:39.055989Z",
     "iopub.status.busy": "2024-09-26T15:29:39.055130Z",
     "iopub.status.idle": "2024-09-26T15:29:40.312813Z",
     "shell.execute_reply": "2024-09-26T15:29:40.311710Z"
    },
    "papermill": {
     "duration": 1.265849,
     "end_time": "2024-09-26T15:29:40.315445",
     "exception": false,
     "start_time": "2024-09-26T15:29:39.049596",
     "status": "completed"
    },
    "tags": []
   },
   "outputs": [],
   "source": [
    "import scipy.stats as stats"
   ]
  },
  {
   "cell_type": "code",
   "execution_count": 7,
   "id": "158506f5",
   "metadata": {
    "execution": {
     "iopub.execute_input": "2024-09-26T15:29:40.325556Z",
     "iopub.status.busy": "2024-09-26T15:29:40.324987Z",
     "iopub.status.idle": "2024-09-26T15:29:40.330719Z",
     "shell.execute_reply": "2024-09-26T15:29:40.329378Z"
    },
    "papermill": {
     "duration": 0.014102,
     "end_time": "2024-09-26T15:29:40.333527",
     "exception": false,
     "start_time": "2024-09-26T15:29:40.319425",
     "status": "completed"
    },
    "tags": []
   },
   "outputs": [],
   "source": [
    "# Given parameters\n",
    "mu = 160  # mean\n",
    "sigma = 40  # standard deviation"
   ]
  },
  {
   "cell_type": "code",
   "execution_count": 8,
   "id": "a12a0b8f",
   "metadata": {
    "execution": {
     "iopub.execute_input": "2024-09-26T15:29:40.342944Z",
     "iopub.status.busy": "2024-09-26T15:29:40.342550Z",
     "iopub.status.idle": "2024-09-26T15:29:40.350796Z",
     "shell.execute_reply": "2024-09-26T15:29:40.349334Z"
    },
    "papermill": {
     "duration": 0.01596,
     "end_time": "2024-09-26T15:29:40.353336",
     "exception": false,
     "start_time": "2024-09-26T15:29:40.337376",
     "status": "completed"
    },
    "tags": []
   },
   "outputs": [],
   "source": [
    "# Probability of going 180 or more days\n",
    "x1 = 180\n",
    "z1 = (x1 - mu) / sigma\n",
    "p_180_or_more = 1 - stats.norm.cdf(z1)"
   ]
  },
  {
   "cell_type": "code",
   "execution_count": 9,
   "id": "a487a95d",
   "metadata": {
    "execution": {
     "iopub.execute_input": "2024-09-26T15:29:40.362741Z",
     "iopub.status.busy": "2024-09-26T15:29:40.362310Z",
     "iopub.status.idle": "2024-09-26T15:29:40.370257Z",
     "shell.execute_reply": "2024-09-26T15:29:40.368877Z"
    },
    "papermill": {
     "duration": 0.015492,
     "end_time": "2024-09-26T15:29:40.372793",
     "exception": false,
     "start_time": "2024-09-26T15:29:40.357301",
     "status": "completed"
    },
    "tags": []
   },
   "outputs": [],
   "source": [
    "# Probability of going 240 or more days\n",
    "x2 = 240\n",
    "z2 = (x2 - mu) / sigma\n",
    "p_240_or_more = 1 - stats.norm.cdf(z2)"
   ]
  },
  {
   "cell_type": "code",
   "execution_count": 10,
   "id": "fff69dd9",
   "metadata": {
    "execution": {
     "iopub.execute_input": "2024-09-26T15:29:40.383196Z",
     "iopub.status.busy": "2024-09-26T15:29:40.382802Z",
     "iopub.status.idle": "2024-09-26T15:29:40.388595Z",
     "shell.execute_reply": "2024-09-26T15:29:40.387235Z"
    },
    "papermill": {
     "duration": 0.014231,
     "end_time": "2024-09-26T15:29:40.391105",
     "exception": false,
     "start_time": "2024-09-26T15:29:40.376874",
     "status": "completed"
    },
    "tags": []
   },
   "outputs": [],
   "source": [
    "# Probability of going 240 or less days\n",
    "p_240_or_less = stats.norm.cdf(z2)"
   ]
  },
  {
   "cell_type": "code",
   "execution_count": 11,
   "id": "32909b14",
   "metadata": {
    "execution": {
     "iopub.execute_input": "2024-09-26T15:29:40.400361Z",
     "iopub.status.busy": "2024-09-26T15:29:40.399908Z",
     "iopub.status.idle": "2024-09-26T15:29:40.406197Z",
     "shell.execute_reply": "2024-09-26T15:29:40.404982Z"
    },
    "papermill": {
     "duration": 0.013912,
     "end_time": "2024-09-26T15:29:40.408726",
     "exception": false,
     "start_time": "2024-09-26T15:29:40.394814",
     "status": "completed"
    },
    "tags": []
   },
   "outputs": [
    {
     "name": "stdout",
     "output_type": "stream",
     "text": [
      "Probability of going 180 or more days: 0.3085\n",
      "Probability of going 240 or more days: 0.0228\n",
      "Probability of going 240 or less days: 0.9772\n"
     ]
    }
   ],
   "source": [
    "# Results\n",
    "print(f\"Probability of going 180 or more days: {p_180_or_more:.4f}\")\n",
    "print(f\"Probability of going 240 or more days: {p_240_or_more:.4f}\")\n",
    "print(f\"Probability of going 240 or less days: {p_240_or_less:.4f}\")"
   ]
  }
 ],
 "metadata": {
  "kaggle": {
   "accelerator": "none",
   "dataSources": [],
   "dockerImageVersionId": 30775,
   "isGpuEnabled": false,
   "isInternetEnabled": false,
   "language": "python",
   "sourceType": "notebook"
  },
  "kernelspec": {
   "display_name": "Python 3",
   "language": "python",
   "name": "python3"
  },
  "language_info": {
   "codemirror_mode": {
    "name": "ipython",
    "version": 3
   },
   "file_extension": ".py",
   "mimetype": "text/x-python",
   "name": "python",
   "nbconvert_exporter": "python",
   "pygments_lexer": "ipython3",
   "version": "3.10.14"
  },
  "papermill": {
   "default_parameters": {},
   "duration": 5.071916,
   "end_time": "2024-09-26T15:29:40.934152",
   "environment_variables": {},
   "exception": null,
   "input_path": "__notebook__.ipynb",
   "output_path": "__notebook__.ipynb",
   "parameters": {},
   "start_time": "2024-09-26T15:29:35.862236",
   "version": "2.6.0"
  }
 },
 "nbformat": 4,
 "nbformat_minor": 5
}
